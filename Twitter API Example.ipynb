{
 "cells": [
  {
   "cell_type": "markdown",
   "metadata": {},
   "source": [
    "# Diving Deep into the Twitter API\n",
    "\n",
    "### Twitter API and Authentication\n",
    "\n",
    "- Stream data from Twitter API\n",
    "- Filter incoming tweets for keywords\n",
    "- About API authentication and OAuth Principles\n",
    "- Basics of the package Tweepy, many Python users use to interact with Twitter\n",
    "\n",
    "Twitter API requires you have an account\n",
    "1. Create Twitter Account\n",
    "2. Login to apps.twitter.com, 'Create new app'\n",
    "3. agree to T&C\n",
    "4. Retrieve Authentication credentials that will allow you to access the Twitter API.  Go to 'Keys and Access Tokens' tab and copy\n",
    "    - API Key\n",
    "    - API Secret\n",
    "    - Access Token\n",
    "    - Access Token Secret\n",
    "\n",
    "Twitter has a number of APIs:\n",
    "1. REST API - provide programmatic access to read/write Twitter data.  Author a new Tweet, read author profile and follower data, and more.  The REST API identifies Twitter applications and users using OAuth; responses are available in JSON.  \n",
    "    - REST is short for Representational State Transfer\n",
    "    - Twitter's REST allows you to Read and Write Twitter data\n",
    "    - Good for conducting singular searches, read user profile information, or post Tweets   \n",
    "2. If your intention is to monitor or process Tweets in real-time, consider using the Streaming API\n",
    "    - The Streaming APIs give develpers low latency access to Twitter's global stream of Tweet data.  A proper implmentation of a streaming client will be pushed messages indicating Tweets and other events have occurred, without any of the overhead associated with pollin a REST endpoint.  \n",
    "    - Several Streaming Endpoints\n",
    "    - Public Streams - Streams of the public data flowing through Twitter suitable for following specific users or topics, and data mining\n",
    "    - User Streams - single-user streams, containing roughtly all of the data corresponding with a single user's view of Twitter\n",
    "    - Site Streams - The multi-user version of user streams.  Site streams are intended for servers which must connect to Twitter on behalf of many users.\n",
    "\n",
    "    \n",
    "\n",
    "#### We will be using the Public Stream:\n",
    "- GET statuses/sample API\n",
    "    -Returns a small random sample of all public statuses.  The Tweets returned by the default access level are the same, so if two different clients connect to this endpoint, they will see the same Tweets\n",
    "\n",
    "- Resource URL\n",
    "    - https:/stream.twitter.com/1.1/statuses/sample.json\n",
    "\n",
    "- Firehose API - GET stuses/firehose\n",
    "    - This endpoint requires special permission to acccess.\n",
    "    - Returns all public statuses.  Few applications require this level of access.  Creative use of a combination of other resources and various access levels can satisfy nearly every application use case.\n",
    "    - costs Money\n",
    "    \n",
    "#### Tweets are returned as JSONs\n",
    "- https://dev.twitter.com/overview/api/tweets\n",
    "- Field guide, get tweet text, language, time of tweet, among many other fields\n",
    "- "
   ]
  },
  {
   "cell_type": "markdown",
   "metadata": {},
   "source": [
    "#### Tweepy Package\n",
    "\n",
    "Recommended for first time Twitter APIs users.  Has a nice balance of usability and capability\n",
    "\n",
    "Has an OAuth handler, which takes care of all of the nasty stuff for you:  all you need to do is pass the API key and Secret to the handler and then to pass the access credentials using the set_access_token method"
   ]
  },
  {
   "cell_type": "code",
   "execution_count": 2,
   "metadata": {},
   "outputs": [
    {
     "ename": "ModuleNotFoundError",
     "evalue": "No module named 'tweepy'",
     "output_type": "error",
     "traceback": [
      "\u001b[0;31m---------------------------------------------------------------------------\u001b[0m",
      "\u001b[0;31mModuleNotFoundError\u001b[0m                       Traceback (most recent call last)",
      "\u001b[0;32m<ipython-input-2-b3e87fe021bd>\u001b[0m in \u001b[0;36m<module>\u001b[0;34m()\u001b[0m\n\u001b[1;32m      1\u001b[0m \u001b[0;31m# Sample\u001b[0m\u001b[0;34m\u001b[0m\u001b[0;34m\u001b[0m\u001b[0m\n\u001b[1;32m      2\u001b[0m \u001b[0;34m\u001b[0m\u001b[0m\n\u001b[0;32m----> 3\u001b[0;31m \u001b[0;32mimport\u001b[0m \u001b[0mtweepy\u001b[0m\u001b[0;34m,\u001b[0m \u001b[0mjson\u001b[0m\u001b[0;34m\u001b[0m\u001b[0m\n\u001b[0m\u001b[1;32m      4\u001b[0m \u001b[0;34m\u001b[0m\u001b[0m\n\u001b[1;32m      5\u001b[0m \u001b[0maccess_token\u001b[0m \u001b[0;34m=\u001b[0m \u001b[0;34m\"...\"\u001b[0m\u001b[0;34m\u001b[0m\u001b[0m\n",
      "\u001b[0;31mModuleNotFoundError\u001b[0m: No module named 'tweepy'"
     ]
    }
   ],
   "source": [
    "# Sample\n",
    "\n",
    "import tweepy, json\n",
    "\n",
    "access_token = \"...\"\n",
    "access_token_secret = \"...\"\n",
    "consumer_key = \"...\"\n",
    "consumer_secret = \"...\"\n",
    "\n",
    "# pass the API Key and Secret to the handler\n",
    "auth = tweepy.OAuthHandler(consumer_key, consumer_secret)\n",
    "# pass the access credentials using the set_access_token method\n",
    "auth.set_access_token(access_token, access_token_secret)\n",
    "\n"
   ]
  },
  {
   "cell_type": "markdown",
   "metadata": {},
   "source": [
    "After this, you'll need to define the Twitter Stream Listener Class\n",
    "\n",
    "datacamp will define this for you.\n",
    "\n"
   ]
  },
  {
   "cell_type": "code",
   "execution_count": 9,
   "metadata": {},
   "outputs": [],
   "source": [
    "# You need to define your Twitter Stream User Class\n",
    "# Tweepy: define stream listener class\n",
    "\n",
    "import tweepy, json\n",
    "\n",
    "class MyStreamListener(tweepy.StreamListener):\n",
    "    def __init__(self, api=None):\n",
    "        super(MyStreamListener, self).__init__()\n",
    "        self.num_tweets=0\n",
    "        self.file = open(\"tweets.txt\", \"w\") #create tweets.txt\n",
    "        \n",
    "    def on_status(self, status):\n",
    "        tweet = status._json\n",
    "        self.file.write(json.dumps(tweet) + '\\n') #writes to file\n",
    "        tweet_list.append(status)\n",
    "        self.num_tweets += 1\n",
    "        if self.num_tweets < 100:  # closes after 100 tweets\n",
    "            return True\n",
    "        else:\n",
    "            return False\n",
    "        self.file.close()  # Listener closes the file, and stops listening"
   ]
  },
  {
   "cell_type": "markdown",
   "metadata": {},
   "source": [
    "Once you have the Stream Listener Class, you need to authenticate it.  You can then stream tweets that contain keywords by applying filter"
   ]
  },
  {
   "cell_type": "code",
   "execution_count": 10,
   "metadata": {},
   "outputs": [
    {
     "ename": "NameError",
     "evalue": "name 'auth' is not defined",
     "output_type": "error",
     "traceback": [
      "\u001b[0;31m---------------------------------------------------------------------------\u001b[0m",
      "\u001b[0;31mNameError\u001b[0m                                 Traceback (most recent call last)",
      "\u001b[0;32m<ipython-input-10-b077e4a403ec>\u001b[0m in \u001b[0;36m<module>\u001b[0;34m()\u001b[0m\n\u001b[1;32m      1\u001b[0m \u001b[0;31m# Create Streaming object and authenticate\u001b[0m\u001b[0;34m\u001b[0m\u001b[0;34m\u001b[0m\u001b[0m\n\u001b[1;32m      2\u001b[0m \u001b[0ml\u001b[0m \u001b[0;34m=\u001b[0m \u001b[0mMyStreamListener\u001b[0m\u001b[0;34m(\u001b[0m\u001b[0;34m)\u001b[0m\u001b[0;34m\u001b[0m\u001b[0m\n\u001b[0;32m----> 3\u001b[0;31m \u001b[0mstream\u001b[0m \u001b[0;34m=\u001b[0m \u001b[0mtweepy\u001b[0m\u001b[0;34m.\u001b[0m\u001b[0mStream\u001b[0m\u001b[0;34m(\u001b[0m\u001b[0mauth\u001b[0m\u001b[0;34m,\u001b[0m \u001b[0ml\u001b[0m\u001b[0;34m)\u001b[0m\u001b[0;34m\u001b[0m\u001b[0m\n\u001b[0m\u001b[1;32m      4\u001b[0m \u001b[0;34m\u001b[0m\u001b[0m\n\u001b[1;32m      5\u001b[0m \u001b[0;31m# This line filters Twitter Streams to capture data by Keywords\u001b[0m\u001b[0;34m\u001b[0m\u001b[0;34m\u001b[0m\u001b[0m\n",
      "\u001b[0;31mNameError\u001b[0m: name 'auth' is not defined"
     ]
    }
   ],
   "source": [
    "# Create Streaming object and authenticate\n",
    "l = MyStreamListener()\n",
    "stream = tweepy.Stream(auth, l)\n",
    "\n",
    "# This line filters Twitter Streams to capture data by Keywords\n",
    "stream.filter(track=['apples', 'oranges'])"
   ]
  },
  {
   "cell_type": "code",
   "execution_count": null,
   "metadata": {
    "collapsed": true
   },
   "outputs": [],
   "source": []
  }
 ],
 "metadata": {
  "kernelspec": {
   "display_name": "Python 3",
   "language": "python",
   "name": "python3"
  },
  "language_info": {
   "codemirror_mode": {
    "name": "ipython",
    "version": 3
   },
   "file_extension": ".py",
   "mimetype": "text/x-python",
   "name": "python",
   "nbconvert_exporter": "python",
   "pygments_lexer": "ipython3",
   "version": "3.6.3"
  }
 },
 "nbformat": 4,
 "nbformat_minor": 2
}
